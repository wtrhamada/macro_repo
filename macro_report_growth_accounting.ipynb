{
 "cells": [
  {
   "cell_type": "code",
   "execution_count": 181,
   "id": "1e4b31e9-0a35-4f78-a0d3-18330f4504dc",
   "metadata": {},
   "outputs": [],
   "source": [
    "import pandas as pd\n",
    "import numpy as np"
   ]
  },
  {
   "cell_type": "code",
   "execution_count": 182,
   "id": "7582ec87-3618-4427-badc-4a87c0d98bc1",
   "metadata": {},
   "outputs": [],
   "source": [
    "# Load data\n",
    "pwt1001 = pd.read_stata('https://dataverse.nl/api/access/datafile/354098')"
   ]
  },
  {
   "cell_type": "code",
   "execution_count": 183,
   "id": "de8e248d-414d-4825-b1f4-3bbca43bde0e",
   "metadata": {},
   "outputs": [],
   "source": [
    "# Filter and select relevant columns\n",
    "data = pwt1001.loc[pwt1001['country'].isin([\"France\",\"Germany\",\"Canada\",\"Italy\",\"Japan\",\"United Kingdom\",\"United States\"])][['year', 'country', 'rgdpna', 'rkna', 'emp','avh', 'labsh','rtfpna']]\n",
    "data = data.loc[(data['year'] >= 1995) & (data['year'] <= 2019)].dropna()"
   ]
  },
  {
   "cell_type": "code",
   "execution_count": 184,
   "id": "4a4cae0c-2f98-431b-ad8c-59508a78f139",
   "metadata": {},
   "outputs": [],
   "source": [
    "# Calculate additional columns\n",
    "data['L'] = data['emp'] * data['avh']  # L\n",
    "data['ln_y'] = np.log(data['rgdpna'] / data['L']) # Y/L\n",
    "data['ln_A'] = np.log(data['rtfpna']) # A\n",
    "data['ln_k'] = np.log(data['rkna'] / data['L'])  # K/L\n",
    "data['alpha'] = 1 - data['labsh']  # alpha\n",
    "data['alpha_x_ln_k'] = data['alpha'] * data['ln_k']  # alpha x (K/L)"
   ]
  },
  {
   "cell_type": "code",
   "execution_count": 185,
   "id": "916ee94b-4c92-4c0f-bd40-eb4cfcda4ea7",
   "metadata": {},
   "outputs": [],
   "source": [
    "# Order by year\n",
    "data = data.sort_values('year')"
   ]
  },
  {
   "cell_type": "code",
   "execution_count": 186,
   "id": "bc2b6ef9-766c-4058-ae8e-473ef3ff401b",
   "metadata": {},
   "outputs": [],
   "source": [
    "# Group by isocode\n",
    "grouped_data = data.groupby('country')"
   ]
  },
  {
   "cell_type": "code",
   "execution_count": 187,
   "id": "4ac8b3d7-8ea8-4e8f-af62-c21683aa7b4e",
   "metadata": {},
   "outputs": [],
   "source": [
    "# Calculate growth rates and Solow residual\n",
    "data['g_rate'] = (grouped_data['ln_y'].diff() * 100)  # Growth rate of GDP \n",
    "data['tfp_g'] = (grouped_data['ln_A'].diff() * 100)  # TFP Growth\n",
    "data['cap_d'] = (grouped_data['alpha_x_ln_k'].diff() * 100)  # Capital Deepening\n",
    "data['tfp_s'] = data['tfp_g'] / data['g_rate']  # TFP Share\n",
    "data['cap_s'] = data['cap_d'] / data['g_rate']  # Capital Share\n",
    "data['cap_s_2'] = 1 - data['tfp_s'] # Capital Share 2"
   ]
  },
  {
   "cell_type": "code",
   "execution_count": 188,
   "id": "ed08944e-41d9-46f5-ae10-3eaf83394121",
   "metadata": {
    "tags": []
   },
   "outputs": [],
   "source": [
    "# Remove missing values\n",
    "data = data.dropna()"
   ]
  },
  {
   "cell_type": "code",
   "execution_count": 189,
   "id": "9ee221de-2c22-4290-9348-3e7ba0df5b51",
   "metadata": {},
   "outputs": [],
   "source": [
    "# Calculate summary statistics\n",
    "summary = data.groupby('country').agg({'g_rate': 'mean','tfp_g': 'mean','cap_d': 'mean','tfp_s': 'mean','cap_s': 'mean', 'cap_s_2': 'mean'})"
   ]
  },
  {
   "cell_type": "code",
   "execution_count": 190,
   "id": "a218c3e0-6f30-47a9-a0f1-dd7490d1ad6e",
   "metadata": {
    "tags": []
   },
   "outputs": [],
   "source": [
    "# Calculate additional summary statistics\n",
    "summary['Growth Rate'] = summary['g_rate']\n",
    "summary['TFP Growth'] = summary['tfp_g']\n",
    "summary['Capital Deepening'] = summary['cap_d']\n",
    "summary['TFP Share'] = summary['tfp_s']\n",
    "summary['Capital Share'] = summary['cap_s']\n",
    "summary['Capital Share 2'] = summary['cap_s_2']"
   ]
  },
  {
   "cell_type": "code",
   "execution_count": 191,
   "id": "135f1555-4b44-4eac-a476-6b9e4400db08",
   "metadata": {},
   "outputs": [
    {
     "name": "stdout",
     "output_type": "stream",
     "text": [
      "                Growth Rate  TFP Growth  Capital Deepening  TFP Share  \\\n",
      "country                                                                 \n",
      "Canada             1.117384    0.151360          -0.560312   0.504413   \n",
      "France             1.087678    0.093816           0.840665   0.315030   \n",
      "Germany            1.073874    0.358568          -0.336012   0.367890   \n",
      "Italy              0.285631   -0.772207           0.541721   0.508958   \n",
      "Japan              1.221666    0.142913          -0.897175  -1.074495   \n",
      "United Kingdom     1.149943    0.230807           2.748162   0.730544   \n",
      "United States      1.658237    0.675462           0.303074   0.574376   \n",
      "\n",
      "                Capital Share  Capital Share 2  \n",
      "country                                         \n",
      "Canada               1.252000         0.495587  \n",
      "France               1.480154         0.684970  \n",
      "Germany              3.970329         0.632110  \n",
      "Italy               -8.736051         0.491042  \n",
      "Japan               32.320018         2.074495  \n",
      "United Kingdom      -0.056190         0.269456  \n",
      "United States       -5.304435         0.425624  \n"
     ]
    }
   ],
   "source": [
    "# Print output\n",
    "print(summary.iloc[:, -6:])"
   ]
  },
  {
   "cell_type": "code",
   "execution_count": 192,
   "id": "ba6e897a-56c5-441e-a536-53cff4c75229",
   "metadata": {},
   "outputs": [],
   "source": [
    "# Equal to 1?\n",
    "summary['TFP Growth + Capital Deepening'] = summary['TFP Growth'] + summary['Capital Deepening']\n",
    "summary['TFP Share + Capital Share'] = summary['TFP Share'] + summary['Capital Share']\n",
    "summary['TFP Share + Capital Share 2'] = summary['TFP Share'] + summary['Capital Share 2']"
   ]
  },
  {
   "cell_type": "code",
   "execution_count": 193,
   "id": "7fbf6d6d-bb47-4a0e-834d-75dde7fa5a9b",
   "metadata": {},
   "outputs": [
    {
     "name": "stdout",
     "output_type": "stream",
     "text": [
      "                TFP Growth + Capital Deepening  TFP Share + Capital Share  \\\n",
      "country                                                                     \n",
      "Canada                               -0.408952                   1.756412   \n",
      "France                                0.934481                   1.795185   \n",
      "Germany                               0.022557                   4.338220   \n",
      "Italy                                -0.230486                  -8.227092   \n",
      "Japan                                -0.754262                  31.245523   \n",
      "United Kingdom                        2.978969                   0.674354   \n",
      "United States                         0.978536                  -4.730059   \n",
      "\n",
      "                TFP Share + Capital Share 2  \n",
      "country                                      \n",
      "Canada                                  1.0  \n",
      "France                                  1.0  \n",
      "Germany                                 1.0  \n",
      "Italy                                   1.0  \n",
      "Japan                                   1.0  \n",
      "United Kingdom                          1.0  \n",
      "United States                           1.0  \n"
     ]
    }
   ],
   "source": [
    "print(summary.iloc[:, -3:])"
   ]
  },
  {
   "cell_type": "code",
   "execution_count": null,
   "id": "ffbb40b9-77fb-4aff-900e-616d2052a500",
   "metadata": {},
   "outputs": [],
   "source": []
  }
 ],
 "metadata": {
  "kernelspec": {
   "display_name": "Python 3 (ipykernel)",
   "language": "python",
   "name": "python3"
  },
  "language_info": {
   "codemirror_mode": {
    "name": "ipython",
    "version": 3
   },
   "file_extension": ".py",
   "mimetype": "text/x-python",
   "name": "python",
   "nbconvert_exporter": "python",
   "pygments_lexer": "ipython3",
   "version": "3.10.9"
  }
 },
 "nbformat": 4,
 "nbformat_minor": 5
}
