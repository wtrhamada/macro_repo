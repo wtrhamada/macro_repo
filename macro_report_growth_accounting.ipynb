{
 "cells": [
  {
   "cell_type": "code",
   "execution_count": 437,
   "id": "1e4b31e9-0a35-4f78-a0d3-18330f4504dc",
   "metadata": {},
   "outputs": [],
   "source": [
    "import pandas as pd\n",
    "import numpy as np"
   ]
  },
  {
   "cell_type": "code",
   "execution_count": 438,
   "id": "7582ec87-3618-4427-badc-4a87c0d98bc1",
   "metadata": {},
   "outputs": [],
   "source": [
    "# Load data, 1001\n",
    "pwt1001 = pd.read_stata('https://dataverse.nl/api/access/datafile/354098')"
   ]
  },
  {
   "cell_type": "code",
   "execution_count": 439,
   "id": "ef370a39",
   "metadata": {},
   "outputs": [],
   "source": [
    "# Load data, 90\n",
    "#pwt1001 = pd.read_stata('https://www.rug.nl/ggdc/docs/pwt90.dta')"
   ]
  },
  {
   "cell_type": "code",
   "execution_count": 457,
   "id": "de8e248d-414d-4825-b1f4-3bbca43bde0e",
   "metadata": {},
   "outputs": [],
   "source": [
    "# Filter and select relevant columns, 1001\n",
    "data = pwt1001.loc[pwt1001['country'].isin([\"France\",\"Germany\",\"Canada\",\"Italy\",\"Japan\",\"United Kingdom\",\"United States\"])][['year', 'country', 'rgdpna', 'rkna', 'emp','avh', 'labsh','rtfpna']]\n",
    "data = data.loc[(data['year'] >= 1995) & (data['year'] <= 2019)].dropna()"
   ]
  },
  {
   "cell_type": "code",
   "execution_count": 458,
   "id": "5592c97b",
   "metadata": {},
   "outputs": [],
   "source": [
    "# Filter and select relevant columns, 90\n",
    "#data = pwt1001.loc[pwt1001['country'].isin([\"France\",\"Germany\",\"Canada\",\"Italy\",\"Japan\",\"United Kingdom\",\"United States\"])][['year', 'country', 'rgdpna', 'rkna', 'emp','avh', 'labsh','rtfpna']]\n",
    "#data = data.loc[(data['year'] >= 1960) & (data['year'] <= 2020)].dropna()"
   ]
  },
  {
   "cell_type": "code",
   "execution_count": 459,
   "id": "4a4cae0c-2f98-431b-ad8c-59508a78f139",
   "metadata": {},
   "outputs": [],
   "source": [
    "# Calculate additional columns\n",
    "#data['L'] = data['emp'] * data['avh']  # L\n",
    "data['L'] = data['emp'] # L\n",
    "\n",
    "data['ln_y'] = np.log(data['rgdpna'] / data['L']) # ln(Y/L)\n",
    "#data['ln_A'] = np.log(data['rtfpna']) # A\n",
    "data['ln_k'] = np.log(data['rkna'] / data['L'])  # ln(K/L)\n",
    "data['alpha'] = 1 - data['labsh']  # alpha\n",
    "data['alpha_x_ln_k'] = data['alpha'] * data['ln_k']  # alpha * ln(K/L)"
   ]
  },
  {
   "cell_type": "code",
   "execution_count": 460,
   "id": "916ee94b-4c92-4c0f-bd40-eb4cfcda4ea7",
   "metadata": {},
   "outputs": [],
   "source": [
    "# Order by year\n",
    "data = data.sort_values('year')"
   ]
  },
  {
   "cell_type": "code",
   "execution_count": 478,
   "id": "bc2b6ef9-766c-4058-ae8e-473ef3ff401b",
   "metadata": {},
   "outputs": [],
   "source": [
    "# Group by country\n",
    "grouped_data = data.groupby('country')"
   ]
  },
  {
   "cell_type": "code",
   "execution_count": 479,
   "id": "4ac8b3d7-8ea8-4e8f-af62-c21683aa7b4e",
   "metadata": {},
   "outputs": [],
   "source": [
    "# Calculate growth rates, etc.\n",
    "data['g_rate'] = (grouped_data['ln_y'].diff() * 100)  # Growth rate of GDP \n",
    "data['cap_d'] = data['alpha'] * (grouped_data['ln_k'].diff() * 100)  # Capital Deepening\n",
    "#data['cap_d'] = (grouped_data['alpha_x_ln_k'].diff() * 100)  # Capital Deepening\n",
    "\n",
    "data['tfp_g'] = data['g_rate'] - data['cap_d']  # TFP Growth\n",
    "##data['tfp_g'] = (grouped_data['ln_A'].diff() * 100)  # TFP Growth\n",
    "\n",
    "#data['tfp_s'] = data['tfp_g'] / data['g_rate']  # TFP Share\n",
    "#data['cap_s'] = data['cap_d'] / data['g_rate']  # Capital Share"
   ]
  },
  {
   "cell_type": "code",
   "execution_count": 480,
   "id": "ed08944e-41d9-46f5-ae10-3eaf83394121",
   "metadata": {
    "tags": []
   },
   "outputs": [],
   "source": [
    "# Remove missing values\n",
    "data = data.dropna()"
   ]
  },
  {
   "cell_type": "code",
   "execution_count": 481,
   "id": "9ee221de-2c22-4290-9348-3e7ba0df5b51",
   "metadata": {},
   "outputs": [],
   "source": [
    "# Calculate summary statistics\n",
    "summary = data.groupby('country').agg({'g_rate': 'mean','tfp_g': 'mean','cap_d': 'mean'})\n",
    "\n",
    "#'tfp_s': 'mean','cap_s': 'mean'"
   ]
  },
  {
   "cell_type": "code",
   "execution_count": 482,
   "id": "a218c3e0-6f30-47a9-a0f1-dd7490d1ad6e",
   "metadata": {
    "tags": []
   },
   "outputs": [],
   "source": [
    "# Calculate additional summary statistics\n",
    "summary['Growth Rate'] = summary['g_rate']\n",
    "summary['TFP Growth'] = summary['tfp_g']\n",
    "summary['Capital Deepening'] = summary['cap_d']\n",
    "\n",
    "#summary['TFP Share'] = summary['tfp_s']\n",
    "#summary['Capital Share'] = summary['cap_s']\n",
    "summary['TFP Share'] = summary['TFP Growth'] /summary['Growth Rate']\n",
    "summary['Capital Share'] = summary['Capital Deepening'] / summary['Growth Rate']"
   ]
  },
  {
   "cell_type": "code",
   "execution_count": 483,
   "id": "cc985c7d",
   "metadata": {},
   "outputs": [],
   "source": [
    "# Caluculate average\n",
    "summary.loc['Average'] = summary.mean()"
   ]
  },
  {
   "cell_type": "code",
   "execution_count": 484,
   "id": "135f1555-4b44-4eac-a476-6b9e4400db08",
   "metadata": {},
   "outputs": [
    {
     "name": "stdout",
     "output_type": "stream",
     "text": [
      "                Growth Rate  TFP Growth  Capital Deepening  TFP Share  Capital Share\n",
      "country                                                                             \n",
      "Canada             0.899278    0.271214           0.628064   0.301591       0.698409\n",
      "France             0.831355    0.264441           0.566914   0.318084       0.681916\n",
      "Germany            0.653930    0.234803           0.419127   0.359065       0.640935\n",
      "Italy             -0.076514   -0.590259           0.513745   7.714423      -6.714423\n",
      "Japan              0.613519    0.034902           0.578617   0.056888       0.943112\n",
      "United Kingdom     0.995636    0.452612           0.543024   0.454596       0.545404\n",
      "United States      1.506967    0.733937           0.773030   0.487029       0.512971\n",
      "------------------------------------------------------------------------------------\n",
      "Average            0.774882    0.200236           0.574646   1.384525      -0.384525\n"
     ]
    }
   ],
   "source": [
    "# Print output\n",
    "summary = summary.iloc[:, -5:]\n",
    "table = summary.to_string(index = True)\n",
    "lines = table.split('\\n')\n",
    "table_with_border = '\\n'.join(lines[:-1]) + '\\n' + '-' * len(lines[-1]) + '\\n' + lines[-1]\n",
    "\n",
    "print(table_with_border)"
   ]
  },
  {
   "cell_type": "code",
   "execution_count": 485,
   "id": "8a73b9ba",
   "metadata": {},
   "outputs": [
    {
     "name": "stdout",
     "output_type": "stream",
     "text": [
      "                Growth Rate  TFP Growth  Capital Deepening  TFP Share  Capital Share\n",
      "country                                                                             \n",
      "Canada                 1.57        0.95               0.63       0.60           0.40\n",
      "France                 2.50        1.54               0.95       0.62           0.38\n",
      "Germany                3.09        1.96               1.12       0.64           0.36\n",
      "Italy                  4.04        2.10               1.94       0.52           0.48\n",
      "Japan                  3.28        2.73               0.56       0.83           0.17\n",
      "United Kingdom         1.90        1.31               0.58       0.69           0.31\n",
      "United States          1.89        1.09               0.80       0.58           0.42\n",
      "Average                2.41        1.61               0.80       0.68           0.32\n",
      "Growth Rate         -0.852791\n",
      "TFP Growth          -0.619874\n",
      "Capital Deepening   -0.385618\n",
      "TFP Share           -0.560489\n",
      "Capital Share       -0.560489\n",
      "dtype: float64\n",
      "Average: -0.595852\n"
     ]
    }
   ],
   "source": [
    "# Comparison\n",
    "goal = pd.read_excel(\"/Users/hamadawataru/Desktop/goal.xlsx\")  # Excel file load\n",
    "goal = goal.set_index(goal.columns[0])  # First column as row labels\n",
    "table2 = goal.to_string(index = True)  # To table\n",
    "print(table2)\n",
    "\n",
    "correlation = summary.corrwith(goal)\n",
    "mean_corr = round(np.mean(correlation), 6)\n",
    "print(correlation)\n",
    "print(f\"Average: {mean_corr}\")"
   ]
  },
  {
   "cell_type": "code",
   "execution_count": 486,
   "id": "ba6e897a-56c5-441e-a536-53cff4c75229",
   "metadata": {},
   "outputs": [],
   "source": [
    "# Equal to...?\n",
    "summary['TFP Growth + Capital Deepening'] = summary['TFP Growth'] + summary['Capital Deepening']\n",
    "summary['TFP Share + Capital Share'] = summary['TFP Share'] + summary['Capital Share']"
   ]
  },
  {
   "cell_type": "code",
   "execution_count": 487,
   "id": "e8fd843b",
   "metadata": {},
   "outputs": [
    {
     "name": "stdout",
     "output_type": "stream",
     "text": [
      "                Growth Rate  TFP Growth + Capital Deepening\n",
      "country                                                    \n",
      "Canada             0.899278                        0.899278\n",
      "France             0.831355                        0.831355\n",
      "Germany            0.653930                        0.653930\n",
      "Italy             -0.076514                       -0.076514\n",
      "Japan              0.613519                        0.613519\n",
      "United Kingdom     0.995636                        0.995636\n",
      "United States      1.506967                        1.506967\n",
      "Average            0.774882                        0.774882\n",
      "                TFP Share + Capital Share\n",
      "country                                  \n",
      "Canada                                1.0\n",
      "France                                1.0\n",
      "Germany                               1.0\n",
      "Italy                                 1.0\n",
      "Japan                                 1.0\n",
      "United Kingdom                        1.0\n",
      "United States                         1.0\n",
      "Average                               1.0\n"
     ]
    }
   ],
   "source": [
    "print(summary.loc[:, ['Growth Rate','TFP Growth + Capital Deepening']])\n",
    "print(summary.loc[:, ['TFP Share + Capital Share']])"
   ]
  }
 ],
 "metadata": {
  "kernelspec": {
   "display_name": "Python 3 (ipykernel)",
   "language": "python",
   "name": "python3"
  },
  "language_info": {
   "codemirror_mode": {
    "name": "ipython",
    "version": 3
   },
   "file_extension": ".py",
   "mimetype": "text/x-python",
   "name": "python",
   "nbconvert_exporter": "python",
   "pygments_lexer": "ipython3",
   "version": "3.10.9"
  }
 },
 "nbformat": 4,
 "nbformat_minor": 5
}
