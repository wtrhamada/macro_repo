{
 "cells": [
  {
   "cell_type": "code",
   "execution_count": 204,
   "id": "1e4b31e9-0a35-4f78-a0d3-18330f4504dc",
   "metadata": {},
   "outputs": [],
   "source": [
    "import pandas as pd\n",
    "import numpy as np"
   ]
  },
  {
   "cell_type": "code",
   "execution_count": 205,
   "id": "7582ec87-3618-4427-badc-4a87c0d98bc1",
   "metadata": {},
   "outputs": [],
   "source": [
    "# Load data\n",
    "pwt1001 = pd.read_stata('https://dataverse.nl/api/access/datafile/354098')"
   ]
  },
  {
   "cell_type": "code",
   "execution_count": 206,
   "id": "de8e248d-414d-4825-b1f4-3bbca43bde0e",
   "metadata": {},
   "outputs": [],
   "source": [
    "# Filter and select relevant columns\n",
    "data = pwt1001.loc[pwt1001['country'].isin([\"France\",\"Germany\",\"Canada\",\"Italy\",\"Japan\",\"United Kingdom\",\"United States\"])][['year', 'country', 'rgdpna', 'rkna', 'emp','avh', 'labsh','rtfpna']]\n",
    "data = data.loc[(data['year'] >= 1995) & (data['year'] <= 2019)].dropna()"
   ]
  },
  {
   "cell_type": "code",
   "execution_count": 207,
   "id": "4a4cae0c-2f98-431b-ad8c-59508a78f139",
   "metadata": {},
   "outputs": [],
   "source": [
    "# Calculate additional columns\n",
    "data['L'] = data['emp'] * data['avh']  # L\n",
    "data['ln_y'] = np.log(data['rgdpna'] / data['L']) # Y/L\n",
    "data['ln_A'] = np.log(data['rtfpna']) # A\n",
    "data['ln_k'] = np.log(data['rkna'] / data['L'])  # K/L\n",
    "data['alpha'] = 1 - data['labsh']  # alpha"
   ]
  },
  {
   "cell_type": "code",
   "execution_count": 208,
   "id": "916ee94b-4c92-4c0f-bd40-eb4cfcda4ea7",
   "metadata": {},
   "outputs": [],
   "source": [
    "# Order by year\n",
    "data = data.sort_values('year')"
   ]
  },
  {
   "cell_type": "code",
   "execution_count": 209,
   "id": "bc2b6ef9-766c-4058-ae8e-473ef3ff401b",
   "metadata": {},
   "outputs": [],
   "source": [
    "# Group by isocode\n",
    "grouped_data = data.groupby('country')"
   ]
  },
  {
   "cell_type": "code",
   "execution_count": 210,
   "id": "ed08944e-41d9-46f5-ae10-3eaf83394121",
   "metadata": {
    "tags": []
   },
   "outputs": [],
   "source": [
    "# Remove missing values\n",
    "data = data.dropna()"
   ]
  },
  {
   "cell_type": "code",
   "execution_count": 211,
   "id": "4ac8b3d7-8ea8-4e8f-af62-c21683aa7b4e",
   "metadata": {},
   "outputs": [],
   "source": [
    "# Calculate growth rates and Solow residual\n",
    "data['g_rate'] = (grouped_data['ln_y'].diff() * 100)  # Growth rate of GDP \n",
    "data['tfp_g'] = (grouped_data['ln_A'].diff() * 100)  # TFP Growth\n",
    "data['cap_d'] = data['alpha'] * (grouped_data['ln_k'].diff() * 100) # Capital Deepening\n",
    "data['tfp_s'] = data['tfp_g'] / data['g_rate']  #TFP Share"
   ]
  },
  {
   "cell_type": "code",
   "execution_count": 212,
   "id": "9ee221de-2c22-4290-9348-3e7ba0df5b51",
   "metadata": {},
   "outputs": [],
   "source": [
    "# Calculate summary statistics\n",
    "summary = data.groupby('country').agg({'g_rate': 'mean','tfp_g': 'mean','cap_d': 'mean','tfp_s': 'mean','alpha': 'mean'})"
   ]
  },
  {
   "cell_type": "code",
   "execution_count": 213,
   "id": "a218c3e0-6f30-47a9-a0f1-dd7490d1ad6e",
   "metadata": {
    "tags": []
   },
   "outputs": [],
   "source": [
    "# Calculate additional summary statistics\n",
    "summary['Growth Rate'] = summary['g_rate']\n",
    "summary['TFP Growth'] = summary['tfp_g']\n",
    "summary['Capital Deepening'] = summary['cap_d']\n",
    "summary['TFP Share'] = summary['tfp_s']\n",
    "summary['Capital Share'] = summary['alpha']"
   ]
  },
  {
   "cell_type": "code",
   "execution_count": 214,
   "id": "135f1555-4b44-4eac-a476-6b9e4400db08",
   "metadata": {},
   "outputs": [
    {
     "name": "stdout",
     "output_type": "stream",
     "text": [
      "                Growth Rate  TFP Growth  Capital Deepening  TFP Share  \\\n",
      "country                                                                 \n",
      "Canada             1.117384    0.151360           0.713034   0.504413   \n",
      "France             1.087678    0.093816           0.666056   0.315030   \n",
      "Germany            1.073874    0.358568           0.584524   0.367890   \n",
      "Italy              0.285631   -0.772207           0.689669   0.508958   \n",
      "Japan              1.221666    0.142913           0.848135  -1.074495   \n",
      "United Kingdom     1.149943    0.230807           0.628362   0.730544   \n",
      "United States      1.658237    0.675462           0.825947   0.574376   \n",
      "\n",
      "                Capital Share  \n",
      "country                        \n",
      "Canada               0.345020  \n",
      "France               0.381140  \n",
      "Germany              0.369455  \n",
      "Italy                0.484425  \n",
      "Japan                0.429427  \n",
      "United Kingdom       0.414704  \n",
      "United States        0.393235  \n"
     ]
    }
   ],
   "source": [
    "# Print output\n",
    "print(summary.iloc[:, -5:])"
   ]
  },
  {
   "cell_type": "code",
   "execution_count": 215,
   "id": "ba6e897a-56c5-441e-a536-53cff4c75229",
   "metadata": {},
   "outputs": [],
   "source": [
    "# Equal to 1?\n",
    "summary['TFP Growth + Capital Deepening'] = summary['TFP Growth'] + summary['Capital Deepening']\n",
    "summary['TFP Share + Capital Share'] = summary['TFP Share'] + summary['Capital Share']"
   ]
  },
  {
   "cell_type": "code",
   "execution_count": 216,
   "id": "7fbf6d6d-bb47-4a0e-834d-75dde7fa5a9b",
   "metadata": {},
   "outputs": [
    {
     "name": "stdout",
     "output_type": "stream",
     "text": [
      "                TFP Growth + Capital Deepening  TFP Share + Capital Share\n",
      "country                                                                  \n",
      "Canada                                0.864394                   0.849433\n",
      "France                                0.759872                   0.696171\n",
      "Germany                               0.943092                   0.737346\n",
      "Italy                                -0.082537                   0.993383\n",
      "Japan                                 0.991048                  -0.645069\n",
      "United Kingdom                        0.859169                   1.145248\n",
      "United States                         1.501409                   0.967611\n"
     ]
    }
   ],
   "source": [
    "print(summary.iloc[:, -2:])"
   ]
  },
  {
   "cell_type": "code",
   "execution_count": null,
   "id": "ffbb40b9-77fb-4aff-900e-616d2052a500",
   "metadata": {},
   "outputs": [],
   "source": []
  }
 ],
 "metadata": {
  "kernelspec": {
   "display_name": "Python 3 (ipykernel)",
   "language": "python",
   "name": "python3"
  },
  "language_info": {
   "codemirror_mode": {
    "name": "ipython",
    "version": 3
   },
   "file_extension": ".py",
   "mimetype": "text/x-python",
   "name": "python",
   "nbconvert_exporter": "python",
   "pygments_lexer": "ipython3",
   "version": "3.10.9"
  }
 },
 "nbformat": 4,
 "nbformat_minor": 5
}
