{
 "cells": [
  {
   "cell_type": "code",
   "execution_count": 17,
   "id": "e41bf609",
   "metadata": {},
   "outputs": [],
   "source": [
    "import pandas as pd\n",
    "import numpy as np"
   ]
  },
  {
   "cell_type": "code",
   "execution_count": 18,
   "id": "85182655",
   "metadata": {},
   "outputs": [],
   "source": [
    "# Load data, ver.10.01\n",
    "pwt = pd.read_stata('https://dataverse.nl/api/access/datafile/354098')"
   ]
  },
  {
   "cell_type": "code",
   "execution_count": 19,
   "id": "1fa16e97",
   "metadata": {},
   "outputs": [],
   "source": [
    "# Filter and select relevant columns, 1001\n",
    "data = pwt.loc[pwt['country'].isin([\"France\",\"Germany\",\"Canada\",\"Italy\",\"Japan\",\"United Kingdom\",\"United States\"])][['year', 'country', 'rgdpna', 'rkna', 'emp','avh', 'labsh','rtfpna']]\n",
    "data = data.loc[(data['year'] >= 1995) & (data['year'] <= 2019)].dropna()"
   ]
  },
  {
   "cell_type": "code",
   "execution_count": 20,
   "id": "1abac326",
   "metadata": {},
   "outputs": [],
   "source": [
    "# Calculate additional columns\n",
    "\n",
    "data['L'] = data['emp'] # L = emp\n",
    "#data['L'] = data['emp'] * data['avh']  # L = emp * avh\n",
    "\n",
    "data['ln_y'] = np.log(data['rgdpna'] / data['L']) # ln(Y/L)\n",
    "data['ln_k'] = np.log(data['rkna'] / data['L'])  # ln(K/L)\n",
    "data['alpha'] = 1 - data['labsh']  # alpha\n",
    "data['alpha_x_ln_k'] = data['alpha'] * data['ln_k']  # alpha * ln(K/L)"
   ]
  },
  {
   "cell_type": "code",
   "execution_count": 21,
   "id": "b36777b0",
   "metadata": {},
   "outputs": [],
   "source": [
    "# Order by year\n",
    "data = data.sort_values('year')"
   ]
  },
  {
   "cell_type": "code",
   "execution_count": 22,
   "id": "e8a21b97",
   "metadata": {},
   "outputs": [],
   "source": [
    "# Group by country\n",
    "grouped_data = data.groupby('country')"
   ]
  },
  {
   "cell_type": "code",
   "execution_count": 23,
   "id": "2d47da1a",
   "metadata": {},
   "outputs": [],
   "source": [
    "# Calculate growth rates, etc.\n",
    "data['g_rate'] = (grouped_data['ln_y'].diff() * 100)  # Growth rate of GDP \n",
    "data['cap_d'] = (grouped_data['alpha_x_ln_k'].diff() * 100)  # Capital Deepening (alpha is included)\n",
    "#data['cap_d'] = data['alpha'] * (grouped_data['ln_k'].diff() * 100)  # Capital Deepening (alpha is not included)\n",
    "\n",
    "data['tfp_g'] = data['g_rate'] - data['cap_d']  # TFP Growth"
   ]
  },
  {
   "cell_type": "code",
   "execution_count": 24,
   "id": "69c50da2",
   "metadata": {},
   "outputs": [],
   "source": [
    "# Remove missing values\n",
    "data = data.dropna()"
   ]
  },
  {
   "cell_type": "code",
   "execution_count": 25,
   "id": "e3d5ecbd",
   "metadata": {},
   "outputs": [],
   "source": [
    "# Calculate summary statistics\n",
    "summary = data.groupby('country').agg({'g_rate': 'mean','tfp_g': 'mean','cap_d': 'mean'})"
   ]
  },
  {
   "cell_type": "code",
   "execution_count": 26,
   "id": "42a598ad",
   "metadata": {},
   "outputs": [],
   "source": [
    "# Calculate additional summary statistics\n",
    "summary['Growth Rate'] = summary['g_rate']\n",
    "summary['TFP Growth'] = summary['tfp_g']\n",
    "summary['Capital Deepening'] = summary['cap_d']\n",
    "\n",
    "summary['TFP Share'] = summary['TFP Growth'] /summary['Growth Rate']\n",
    "summary['Capital Share'] = summary['Capital Deepening'] / summary['Growth Rate']"
   ]
  },
  {
   "cell_type": "code",
   "execution_count": 27,
   "id": "f4b3c4a2",
   "metadata": {},
   "outputs": [],
   "source": [
    "# Caluculate average\n",
    "average_growth_rate = summary['Growth Rate'].mean()\n",
    "average_tfp_growth = summary['TFP Growth'].mean()\n",
    "average_capital_deepening = summary['Capital Deepening'].mean()\n",
    "average_tfp_share = average_tfp_growth / average_growth_rate  # Average of TFP Share\n",
    "average_capital_share = average_capital_deepening / average_growth_rate  # Average of Capital Share\n",
    "average_row = pd.DataFrame({'Growth Rate': [average_growth_rate], 'TFP Growth': [average_tfp_growth], 'Capital Deepening': [average_capital_deepening], 'TFP Share': [average_tfp_share], 'Capital Share': [average_capital_share]}, index=['Average'])\n"
   ]
  },
  {
   "cell_type": "code",
   "execution_count": 28,
   "id": "a692c6cf",
   "metadata": {},
   "outputs": [
    {
     "name": "stdout",
     "output_type": "stream",
     "text": [
      "                Growth Rate  TFP Growth  Capital Deepening  TFP Share  Capital Share\n",
      "Canada                 0.89        0.65               0.24       0.73           0.27\n",
      "France                 0.83        0.21               0.62       0.25           0.75\n",
      "Germany                0.66        0.56               0.10       0.84           0.16\n",
      "Italy                 -0.04       -0.52               0.48      13.99         -12.99\n",
      "Japan                  0.71        0.73              -0.01       1.02          -0.02\n",
      "United Kingdom         1.02       -0.27               1.28      -0.26           1.26\n",
      "United States          1.54        0.96               0.58       0.63           0.37\n",
      "------------------------------------------------------------------------------------\n",
      "Average                0.80        0.33               0.47       0.41           0.59\n"
     ]
    }
   ],
   "source": [
    "# Print output\n",
    "summary = summary.iloc[:, -5:]\n",
    "summary = pd.concat([summary, average_row])\n",
    "summary = summary.round(2)\n",
    "table = summary.to_string(index = True)\n",
    "lines = table.split('\\n')\n",
    "table_with_border = '\\n'.join(lines[:-1]) + '\\n' + '-' * len(lines[-1]) + '\\n' + lines[-1]\n",
    "\n",
    "print(table_with_border)"
   ]
  }
 ],
 "metadata": {
  "kernelspec": {
   "display_name": "Python 3 (ipykernel)",
   "language": "python",
   "name": "python3"
  },
  "language_info": {
   "codemirror_mode": {
    "name": "ipython",
    "version": 3
   },
   "file_extension": ".py",
   "mimetype": "text/x-python",
   "name": "python",
   "nbconvert_exporter": "python",
   "pygments_lexer": "ipython3",
   "version": "3.10.9"
  }
 },
 "nbformat": 4,
 "nbformat_minor": 5
}
